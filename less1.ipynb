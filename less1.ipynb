{
 "cells": [
  {
   "cell_type": "markdown",
   "metadata": {},
   "source": [
    "1) Из колоды в 52 карты извлекаются случайным образом 4 карты. a) Найти вероятность того, что все карты – крести. б) Найти вероятность, что среди 4-х карт окажется хотя бы один туз.\n",
    "2) На входной двери подъезда установлен кодовый замок, содержащий десять кнопок с цифрами от 0 до 9. Код содержит три цифры, которые нужно нажать одновременно. Какова вероятность того, что человек, не знающий код, откроет дверь с первой попытки?\n",
    "3) В ящике имеется 15 деталей, из которых 9 окрашены. Рабочий случайным образом извлекает 3 детали. Какова вероятность того,что все извлеченные детали окрашены?\n",
    "4) В лотерее 100 билетов. Из них 2 выигрышных. Какова вероятность того, что 2 приобретенных билета окажутся выигрышными?\n",
    "\n"
   ]
  },
  {
   "cell_type": "code",
   "execution_count": 31,
   "metadata": {},
   "outputs": [
    {
     "name": "stdout",
     "output_type": "stream",
     "text": [
      "Вероятность достать 4 крести равна 0.26410564225690275 %\n"
     ]
    },
    {
     "data": {
      "text/plain": [
       "270725.0"
      ]
     },
     "execution_count": 31,
     "metadata": {},
     "output_type": "execute_result"
    }
   ],
   "source": [
    "#task1\n",
    "import numpy as np\n",
    "from math import factorial as fc \n",
    "\n",
    "def comb(n,k):\n",
    "    return fc(n)/(fc(k)*fc(n-k))\n",
    "\n",
    "n = 52\n",
    "k = 4\n",
    "n1 = 13\n",
    "\n",
    "\n",
    "c1 = comb(n,k) #число возможных комбинаций с 4 картами\n",
    "c2 = comb(n2, k) #число возможных комбинаций с картами одной масти\n",
    "p = (c2/c1)*100\n",
    "print('Вероятность достать 4 крести равна', p, '%')\n"
   ]
  },
  {
   "cell_type": "code",
   "execution_count": 36,
   "metadata": {},
   "outputs": [
    {
     "name": "stdout",
     "output_type": "stream",
     "text": [
      "Вероятность достать 4 карты хотябы с 1 тузом составляет 25.555083571890297 %\n"
     ]
    }
   ],
   "source": [
    "c3 = comb(4,1)*comb(48,3)# число комбинаций 4 карт с 1 тузом \n",
    "p1 = (c3/c1)*100\n",
    "print('Вероятность достать 4 карты хотябы с 1 тузом составляет', p1, '%')"
   ]
  },
  {
   "cell_type": "code",
   "execution_count": 37,
   "metadata": {},
   "outputs": [
    {
     "name": "stdout",
     "output_type": "stream",
     "text": [
      "Вероятность отрыть замок с 1-гораза составляет 0.8333333333333334 %\n"
     ]
    }
   ],
   "source": [
    "#task 2\n",
    "\n",
    "n2 = 10 \n",
    "k1 = 3\n",
    "m = 1\n",
    "\n",
    "p2 = (m/comb(n2, k1))*100\n",
    "print('Вероятность отрыть замок с 1-гораза составляет', p, '%')\n"
   ]
  },
  {
   "cell_type": "code",
   "execution_count": 40,
   "metadata": {},
   "outputs": [
    {
     "name": "stdout",
     "output_type": "stream",
     "text": [
      "Вероятность достать 3 окрашенные детали равна 18.461538461538463 %\n"
     ]
    }
   ],
   "source": [
    "#task3\n",
    "\n",
    "n3 = 15\n",
    "k2 = 3\n",
    "n4 = 9\n",
    "\n",
    "p3 = (comb(n4,k2)/comb(n3,k2))*100\n",
    "print('Вероятность достать 3 окрашенные детали равна', p,'%')"
   ]
  },
  {
   "cell_type": "code",
   "execution_count": 44,
   "metadata": {},
   "outputs": [
    {
     "name": "stdout",
     "output_type": "stream",
     "text": [
      "Вероятность купить два выйгрышных билета составляет 0.0202020202020202 %\n"
     ]
    }
   ],
   "source": [
    "#task4\n",
    "\n",
    "p4 = (comb(2,2)*comb(98,0)/comb(100,2))*100\n",
    "print('Вероятность купить два выигрышных билета составляет', p4, '%')"
   ]
  },
  {
   "cell_type": "code",
   "execution_count": null,
   "metadata": {},
   "outputs": [],
   "source": []
  }
 ],
 "metadata": {
  "kernelspec": {
   "display_name": "Python 3",
   "language": "python",
   "name": "python3"
  },
  "language_info": {
   "codemirror_mode": {
    "name": "ipython",
    "version": 3
   },
   "file_extension": ".py",
   "mimetype": "text/x-python",
   "name": "python",
   "nbconvert_exporter": "python",
   "pygments_lexer": "ipython3",
   "version": "3.7.3"
  }
 },
 "nbformat": 4,
 "nbformat_minor": 2
}
