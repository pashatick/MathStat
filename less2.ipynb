{
 "cells": [
  {
   "cell_type": "markdown",
   "metadata": {},
   "source": [
    "Урок 2.\n",
    "\n",
    "1) Вероятность того, что стрелок попадет в мишень, выстрелив один раз, равна 0.8. \n",
    "    Стрелок выстрелил 100 раз. Найдите вероятность того, что стрелок попадет в цель ровно 85 раз.\n",
    "2) Вероятность того, что лампочка перегорит в течение первого дня эксплуатации, равна 0.0004. \n",
    "    В жилом комплексе после ремонта в один день включили 5000 новых лампочек. \n",
    "    Какова вероятность, что ни одна из них не перегорит в первый день? \n",
    "    Какова вероятность, что перегорят ровно две?\n",
    "3) Монету подбросили 144 раза. Какова вероятность, что орел выпадет ровно 70 раз?\n",
    "4) В первом ящике находится 10 мячей, из которых 7 - белые. \n",
    "    Во втором ящике - 11 мячей, из которых 9 белых. Из каждого ящика вытаскивают случайным образом \n",
    "    по два мяча. \n",
    "    Какова вероятность того, что все мячи белые? \n",
    "    Какова вероятность того, что ровно два мяча белые? \n",
    "    Какова вероятность того, что хотя бы один мяч белый?\n",
    "\n",
    "\n"
   ]
  },
  {
   "cell_type": "code",
   "execution_count": 26,
   "metadata": {},
   "outputs": [
    {
     "name": "stdout",
     "output_type": "stream",
     "text": [
      "Вероятность попадания составляет 3.7092614343691794 %\n"
     ]
    }
   ],
   "source": [
    "#task1\n",
    "import numpy as np\n",
    "from math import factorial as fc\n",
    "def comb(n,k):\n",
    "    return fc(n)/(fc(k)*fc(n-k))\n",
    "\n",
    "\n",
    "p1 = 0.8\n",
    "n1 = 100\n",
    "m1 = 85\n",
    "lambda1 = n1 * p1\n",
    "\n",
    "P1 = (lambda1**m1 / (fc(m1) * np.exp(-lambda1)))*100\n",
    "print('Вероятность попадания составляет', P, '%')"
   ]
  },
  {
   "cell_type": "code",
   "execution_count": 28,
   "metadata": {},
   "outputs": [
    {
     "name": "stdout",
     "output_type": "stream",
     "text": [
      "738.9056098930649 1477.8112197861299\n"
     ]
    }
   ],
   "source": [
    "#task2\n",
    "\n",
    "p2 = 0.0004\n",
    "n2 = 5000\n",
    "m2_1 = 0\n",
    "m2_2 = 2\n",
    "lambda2 = n2 * p2\n",
    "\n",
    "P2_1 = (lambda2**m2_1 / (fc(m2_1) * np.exp(-lambda2)))*100\n",
    "P2_2 = (lambda2**m2_2 / (fc(m2_2) * np.exp(-lambda2)))*100\n",
    "print(P2_1, P2_2)"
   ]
  },
  {
   "cell_type": "code",
   "execution_count": 29,
   "metadata": {},
   "outputs": [
    {
     "data": {
      "text/plain": [
       "6.281178035144776"
      ]
     },
     "execution_count": 29,
     "metadata": {},
     "output_type": "execute_result"
    }
   ],
   "source": [
    "#task3\n",
    "\n",
    "p3 = 0.5\n",
    "n3 = 144\n",
    "k=70\n",
    "q = 1-p3\n",
    "\n",
    "P3 = (comb(144,70)*p3**k*q**(n3-k))*100\n",
    "P3\n"
   ]
  },
  {
   "cell_type": "code",
   "execution_count": 33,
   "metadata": {},
   "outputs": [
    {
     "data": {
      "text/plain": [
       "(65.62954545454545, 16.421969696969697, 8.613281249999998)"
      ]
     },
     "execution_count": 33,
     "metadata": {},
     "output_type": "execute_result"
    }
   ],
   "source": [
    "#task4\n",
    "\n",
    "b1 = 10\n",
    "b2 = 11\n",
    "s1 = 7\n",
    "s2 = 9\n",
    "p1 = s1/b1\n",
    "p2 = s2/b2\n",
    "k1 = 2\n",
    "q1 = 1-p1\n",
    "\n",
    "P4_1 = (comb(7,2)/comb(10,7))+(comb(9,2)/comb(11,9))*100\n",
    "P4_2 = (comb(7,1)/comb(10,7))+(comb(9,1)/comb(11,9))*100\n",
    "P4_3 = 0\n",
    "\n",
    "P = (comb(10,2)*p1**k1*q**(b1-k1))*100\n",
    "\n",
    "p4_1, p4_2, P\n"
   ]
  },
  {
   "cell_type": "code",
   "execution_count": null,
   "metadata": {},
   "outputs": [],
   "source": []
  },
  {
   "cell_type": "code",
   "execution_count": null,
   "metadata": {},
   "outputs": [],
   "source": []
  }
 ],
 "metadata": {
  "kernelspec": {
   "display_name": "Python 3",
   "language": "python",
   "name": "python3"
  },
  "language_info": {
   "codemirror_mode": {
    "name": "ipython",
    "version": 3
   },
   "file_extension": ".py",
   "mimetype": "text/x-python",
   "name": "python",
   "nbconvert_exporter": "python",
   "pygments_lexer": "ipython3",
   "version": "3.7.3"
  }
 },
 "nbformat": 4,
 "nbformat_minor": 2
}
