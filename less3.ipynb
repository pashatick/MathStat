{
 "cells": [
  {
   "cell_type": "markdown",
   "metadata": {},
   "source": [
    "1. Даны значения зарплат из выборки выпускников: 100, 80, 75, 77, 89, 33, 45, 25, 65, 17, 30, 24, 57, 55, 70, 75, 65, 84, 90, 150. Посчитать (желательно без использования статистических методов наподобие std, var, mean) среднее арифметическое, среднее квадратичное отклонение, смещенную и несмещенную оценки дисперсий для данной выборки."
   ]
  },
  {
   "cell_type": "code",
   "execution_count": 1,
   "metadata": {},
   "outputs": [],
   "source": [
    "import numpy as np\n",
    "import math"
   ]
  },
  {
   "cell_type": "code",
   "execution_count": 2,
   "metadata": {},
   "outputs": [],
   "source": [
    "zp = np.array([100, 80, 75, 77, 89, 33, 45, 25, 65, 17, 30, 24, 57, 55, 70, 75, 65, 84, 90, 150])"
   ]
  },
  {
   "cell_type": "code",
   "execution_count": 25,
   "metadata": {},
   "outputs": [
    {
     "data": {
      "text/plain": [
       "(65.3, 65.3)"
      ]
     },
     "execution_count": 25,
     "metadata": {},
     "output_type": "execute_result"
    }
   ],
   "source": [
    "#среднее\n",
    "task1 = np.sum(zp)/len(zp)\n",
    "task1, zp.mean()"
   ]
  },
  {
   "cell_type": "code",
   "execution_count": 31,
   "metadata": {},
   "outputs": [
    {
     "data": {
      "text/plain": [
       "(30.823854398825596, 30.823854398825596)"
      ]
     },
     "execution_count": 31,
     "metadata": {},
     "output_type": "execute_result"
    }
   ],
   "source": [
    "#ср. квардратичное отклонение\n",
    "task2 = np.sqrt(((zp - zp.mean())**2).sum()/len(zp)) \n",
    "task2, zp.std()"
   ]
  },
  {
   "cell_type": "code",
   "execution_count": 34,
   "metadata": {},
   "outputs": [
    {
     "data": {
      "text/plain": [
       "(950.11, 950.11)"
      ]
     },
     "execution_count": 34,
     "metadata": {},
     "output_type": "execute_result"
    }
   ],
   "source": [
    "#смещенная дисперсия\n",
    "task3 = ((zp - zp.mean())**2).sum()/len(zp)\n",
    "task3, zp.var()"
   ]
  },
  {
   "cell_type": "code",
   "execution_count": 36,
   "metadata": {},
   "outputs": [
    {
     "data": {
      "text/plain": [
       "(1000.1157894736842, 1000.1157894736842)"
      ]
     },
     "execution_count": 36,
     "metadata": {},
     "output_type": "execute_result"
    }
   ],
   "source": [
    "#несмещенная дисперсия\n",
    "task3 = ((zp - zp.mean())**2).sum()/(len(zp)-1)\n",
    "task3, zp.var(ddof=1)"
   ]
  },
  {
   "cell_type": "markdown",
   "metadata": {},
   "source": [
    "2.В первом ящике находится 8 мячей, из которых 5 - белые. Во втором ящике - 12 мячей, из которых 5 белых. Из первого ящика вытаскивают случайным образом два мяча, из второго - 4. Какова вероятность того, что 3 мяча белые?\n"
   ]
  },
  {
   "cell_type": "code",
   "execution_count": 37,
   "metadata": {},
   "outputs": [],
   "source": [
    "from math import factorial as fc\n",
    "def comb(n,k):\n",
    "    return fc(n)/(fc(k)*fc(n-k))\n"
   ]
  },
  {
   "cell_type": "code",
   "execution_count": 51,
   "metadata": {},
   "outputs": [
    {
     "name": "stdout",
     "output_type": "stream",
     "text": [
      "Вероятность того, что все мячи белые составляет 0.1778138528138528\n"
     ]
    }
   ],
   "source": [
    "var1 = (comb(5,2)/comb(8,2))*(comb(4,1)/comb(12,1))\n",
    "var2 = (comb(5,1)/comb(8,1))*(comb(4,2)/comb(12,2))\n",
    "var3 = (comb(3,2)/comb(8,2))*(comb(4,3)/comb(12,3))\n",
    "\n",
    "P = var1+var2+var3\n",
    "print('Вероятность того, что все мячи белые составляет', P)"
   ]
  },
  {
   "cell_type": "markdown",
   "metadata": {},
   "source": [
    "3. На соревновании по биатлону один из трех спортсменов стреляет и попадает в мишень. Вероятность попадания для первого спортсмена равна 0.9, для второго — 0.8, для третьего — 0.6. Найти вероятность того, что выстрел произведен: a). первым спортсменом б). вторым спортсменом в). третьим спортсменом.\n"
   ]
  },
  {
   "cell_type": "code",
   "execution_count": 64,
   "metadata": {},
   "outputs": [
    {
     "name": "stdout",
     "output_type": "stream",
     "text": [
      "Вероятность того, что стрелял 1й спортсмен составляет 0.3913043478260869,\n",
      " 2й спортсмен 0.34782608695652173, \n",
      " 3й спортсмен0.26086956521739124\n"
     ]
    }
   ],
   "source": [
    "P = (1/3)*(0.9+0.8+0.6)\n",
    "spm1 = ((1/3)*0.9)/P\n",
    "spm2 = ((1/3)*0.8)/P\n",
    "spm3 = ((1/3)*0.6)/P\n",
    "print(f\"Вероятность того, что стрелял 1й спортсмен составляет {spm1},\\n 2й спортсмен {spm2}, \\n 3й спортсмен{spm3}\")"
   ]
  },
  {
   "cell_type": "markdown",
   "metadata": {},
   "source": [
    "4. В университет на факультеты A и B поступило равное количество студентов, а на факультет C студентов поступило столько же, сколько на A и B вместе. Вероятность того, что студент факультета A сдаст первую сессию, равна 0.8. Для студента факультета B эта вероятность равна 0.7, а для студента факультета C - 0.9. Студент сдал первую сессию. Какова вероятность, что он учится: a). на факультете A б). на факультете B в). на факультете C?"
   ]
  },
  {
   "cell_type": "code",
   "execution_count": 66,
   "metadata": {},
   "outputs": [
    {
     "name": "stdout",
     "output_type": "stream",
     "text": [
      "Студент обучается на фа-те А составляет0.24242424242424246, \n",
      " на фа-те В 0.21212121212121213, \n",
      " на фа-те С 0.5454545454545455\n"
     ]
    }
   ],
   "source": [
    "P = 0.5*0.9+0.25*1.5 \n",
    "stdA = ((1/4)*0.8)/P\n",
    "stdB = ((1/4)*0.7)/P\n",
    "stdC = ((1/2)*0.9)/P\n",
    "print(f'Студент обучается на фа-те А составляет{stdA}, \\n на фа-те В {stdB}, \\n на фа-те С {stdC}')"
   ]
  },
  {
   "cell_type": "markdown",
   "metadata": {},
   "source": [
    "5. Устройство состоит из трех деталей. Для первой детали вероятность выйти из строя в первый месяц равна 0.1, для второй - 0.2, для третьей - 0.25. Какова вероятность того, что в первый месяц выйдут из строя: а). все детали б). только две детали в). хотя бы одна деталь г). от одной до двух деталей?\n",
    "\n"
   ]
  },
  {
   "cell_type": "code",
   "execution_count": 68,
   "metadata": {},
   "outputs": [
    {
     "name": "stdout",
     "output_type": "stream",
     "text": [
      "Из строя вышли все детали 0.00018518518518518518, \n",
      " только две детали 0.39999999999999997, \n",
      " хотя бы одна 0.18333333333333335, \n",
      " от одной до двух 0.07333333333333333\n"
     ]
    }
   ],
   "source": [
    "p1 = 0.1\n",
    "p2 = 0.2\n",
    "p3 = 0.25\n",
    "\n",
    "P_all_det = (1/3*0.1)*(1/3*0.2)*(1/3*0.25)\n",
    "P_2_off = 1/3*(0.3+0.35+0.55)\n",
    "P_1_off =  1/3*0.55\n",
    "P_1_to_2 = P_2_off*P_1_off\n",
    "\n",
    "print(f'Из строя вышли все детали {P_all_det}, \\n только две детали {P_2_off}, \\n хотя бы одна {P_1_off}, \\n от одной до двух {P_1_to_2}')"
   ]
  },
  {
   "cell_type": "code",
   "execution_count": null,
   "metadata": {},
   "outputs": [],
   "source": []
  },
  {
   "cell_type": "code",
   "execution_count": null,
   "metadata": {},
   "outputs": [],
   "source": []
  }
 ],
 "metadata": {
  "kernelspec": {
   "display_name": "Python 3",
   "language": "python",
   "name": "python3"
  },
  "language_info": {
   "codemirror_mode": {
    "name": "ipython",
    "version": 3
   },
   "file_extension": ".py",
   "mimetype": "text/x-python",
   "name": "python",
   "nbconvert_exporter": "python",
   "pygments_lexer": "ipython3",
   "version": "3.7.3"
  }
 },
 "nbformat": 4,
 "nbformat_minor": 2
}
