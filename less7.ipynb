{
 "cells": [
  {
   "cell_type": "markdown",
   "metadata": {},
   "source": [
    "Даны значения величины заработной платы заемщиков банка (zp) и значения их поведенческого кредитного скоринга (ks): zp = [35, 45, 190, 200, 40, 70, 54, 150, 120, 110], ks = [401, 574, 874, 919, 459, 739, 653, 902, 746, 832]. Используя математические операции, посчитать коэффициенты линейной регрессии, приняв за X заработную плату (то есть, zp - признак), а за y - значения скорингового балла (то есть, ks - целевая переменная). Произвести расчет как с использованием intercept, так и без."
   ]
  },
  {
   "cell_type": "code",
   "execution_count": 35,
   "metadata": {},
   "outputs": [
    {
     "name": "stdout",
     "output_type": "stream",
     "text": [
      "[[444.17735732]\n",
      " [  2.62053888]] 444.1773573243596 2.620538882402765\n",
      "[[5.88982042]]\n"
     ]
    }
   ],
   "source": [
    "import numpy as np\n",
    "\n",
    "zp = np.array([35, 45, 190, 200, 40, 70, 54, 150, 120, 110])\n",
    "ks = np.array([401, 574, 874, 919, 459, 739, 653, 902, 746, 832])\n",
    "b1 = (np.mean(zp * ks) - np.mean(zp) * np.mean(ks)) / (np.mean(zp**2) - np.mean(zp)**2)\n",
    "b0 = np.mean(ks) - b1 * np.mean(zp)\n",
    "\n",
    "\n",
    "zp_ = zp.reshape((10,1))\n",
    "ks_ = ks.reshape((10,1))\n",
    "zp_i = np.hstack([np.ones((10,1)),zp_])\n",
    "\n",
    "coef_i = np.dot(np.linalg.inv(np.dot(zp_i.T,zp_i)),zp_i.T @ks_)\n",
    "print(coef_i,b0,b1)\n",
    "coef = np.dot(np.linalg.inv(np.dot(zp_.T,zp_)),zp_.T @ks_)\n",
    "print(coef)"
   ]
  },
  {
   "cell_type": "markdown",
   "metadata": {},
   "source": [
    "Посчитать коэффициент линейной регрессии при заработной плате (zp), используя градиентный спуск (без intercept)"
   ]
  },
  {
   "cell_type": "code",
   "execution_count": 36,
   "metadata": {},
   "outputs": [
    {
     "name": "stdout",
     "output_type": "stream",
     "text": [
      "0,b1 = 0.25952808, mse = 4896640.576\n",
      "100,b1 = 5.54537842245223, mse = 220784.61869057553\n",
      "200,b1 = 5.868748638669329, mse = 131949.8559358696\n",
      "300,b1 = 5.888531320728348, mse = 127253.35260584072\n",
      "400,b1 = 5.8897415574471985, mse = 126968.79902595829\n",
      "500,b1 = 5.889815595583751, mse = 126951.40135123926\n",
      "600,b1 = 5.889820124983314, mse = 126950.33705979161\n",
      "700,b1 = 5.889820402076462, mse = 126950.27195023159\n",
      "800,b1 = 5.88982041902807, mse = 126950.26796705279\n",
      "900,b1 = 5.889820420065112, mse = 126950.26772337541\n",
      "1000,b1 = 5.8898204201285544, mse = 126950.26770846802\n",
      "1100,b1 = 5.889820420132437, mse = 126950.26770755579\n",
      "1200,b1 = 5.889820420132673, mse = 126950.26770750014\n",
      "1300,b1 = 5.889820420132673, mse = 126950.26770750014\n",
      "1400,b1 = 5.889820420132673, mse = 126950.26770750014\n"
     ]
    }
   ],
   "source": [
    "b0 = 0.1\n",
    "b1 = 0.1\n",
    "n = len(zp)\n",
    "alpha = 1e-6\n",
    "for i in range(1500):\n",
    "    y = b1*zp\n",
    "    b1 -= alpha*(2/n)*np.sum((y-ks)*zp)\n",
    "    if i%100==0:\n",
    "        print(f'{i},b1 = {b1}, mse = {(1/n)*np.sum(y-ks)**2}')"
   ]
  },
  {
   "cell_type": "code",
   "execution_count": 42,
   "metadata": {},
   "outputs": [
    {
     "name": "stdout",
     "output_type": "stream",
     "text": [
      "0,b0 = 444.17735691284895 ,b1 = 2.6205388854316656, mse = 1.0895327045500084e-13\n",
      "500000,b0 = 444.1773572915017 ,b1 = 2.6205388826446137, mse = 6.946438809159176e-16\n",
      "1000000,b0 = 444.1773573187572 ,b1 = 2.6205388824440017, mse = 2.0193869833009795e-17\n",
      "1500000,b0 = 444.1773573187572 ,b1 = 2.6205388824440017, mse = 2.0193869833009795e-17\n",
      "2000000,b0 = 444.1773573187572 ,b1 = 2.6205388824440017, mse = 2.0193869833009795e-17\n",
      "2500000,b0 = 444.1773573187572 ,b1 = 2.6205388824440017, mse = 2.0193869833009795e-17\n"
     ]
    }
   ],
   "source": [
    "alpha = 1e-5\n",
    "for i in range(2500001):\n",
    "    y=b0+b1*zp\n",
    "    b0 -= alpha*(2/n)*np.sum((y-ks))\n",
    "    b1 -= alpha*(2/n)*np.sum((y-ks)*zp)\n",
    "    if i%500000==0:\n",
    "        print(f'{i},b0 = {b0} ,b1 = {b1}, mse = {(1/n)*np.sum(y-ks)**2}')"
   ]
  },
  {
   "cell_type": "code",
   "execution_count": null,
   "metadata": {},
   "outputs": [],
   "source": []
  },
  {
   "cell_type": "code",
   "execution_count": null,
   "metadata": {},
   "outputs": [],
   "source": []
  }
 ],
 "metadata": {
  "kernelspec": {
   "display_name": "Python 3",
   "language": "python",
   "name": "python3"
  },
  "language_info": {
   "codemirror_mode": {
    "name": "ipython",
    "version": 3
   },
   "file_extension": ".py",
   "mimetype": "text/x-python",
   "name": "python",
   "nbconvert_exporter": "python",
   "pygments_lexer": "ipython3",
   "version": "3.7.3"
  }
 },
 "nbformat": 4,
 "nbformat_minor": 2
}
