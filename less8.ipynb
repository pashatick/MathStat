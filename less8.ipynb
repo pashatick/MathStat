{
 "cells": [
  {
   "cell_type": "markdown",
   "metadata": {},
   "source": [
    "Провести дисперсионный анализ для определения того, есть ли различия среднего роста среди взрослых футболистов, хоккеистов и штангистов. Даны значения роста в трех группах случайно выбранных спортсменов: Футболисты: 173, 175, 180, 178, 177, 185, 183, 182. Хоккеисты: 177, 179, 180, 188, 177, 172, 171, 184, 180. Штангисты: 172, 173, 169, 177, 166, 180, 178, 177, 172, 166, 170."
   ]
  },
  {
   "cell_type": "code",
   "execution_count": 18,
   "metadata": {},
   "outputs": [],
   "source": [
    "import numpy as np\n",
    "import pandas as pd\n",
    "\n",
    "f = np.array([173, 175, 180, 178, 177, 185, 183, 182])\n",
    "h = np.array([177, 179, 180, 188, 177, 172, 171, 184, 180])\n",
    "a = np.array([172, 173, 169, 177, 166, 180, 178, 177, 172, 166, 170])\n",
    "\n",
    "nf = len(f)\n",
    "nh = len(h)\n",
    "na = len(a)\n",
    "n = nf+nh+na\n",
    "k = 3 "
   ]
  },
  {
   "cell_type": "code",
   "execution_count": 19,
   "metadata": {},
   "outputs": [
    {
     "data": {
      "text/plain": [
       "(830.9642857142854, 830.964285714286)"
      ]
     },
     "execution_count": 19,
     "metadata": {},
     "output_type": "execute_result"
    }
   ],
   "source": [
    "y_ = np.concatenate([f,h,a])\n",
    "s2 = np.sum((y_-y_.mean())**2)\n",
    "s2_f = ((f.mean() - y_.mean())**2) * nf + ((h.mean() - y_.mean())**2) * nh + ((a.mean() - y_.mean())**2) * na\n",
    "s2_residual = np.sum((f - f.mean())**2) + np.sum((h - h.mean())**2) + np.sum((a - a.mean())**2)\n",
    "s2,s2_f+s2_residual\n",
    "  \n"
   ]
  },
  {
   "cell_type": "code",
   "execution_count": 20,
   "metadata": {},
   "outputs": [
    {
     "data": {
      "text/plain": [
       "5.500053450812598"
      ]
     },
     "execution_count": 20,
     "metadata": {},
     "output_type": "execute_result"
    }
   ],
   "source": [
    "sigma2_f = s2_f / (k - 1)\n",
    "sigma2_residual = s2_residual / (n - k)\n",
    "F_h = sigma2_f / sigma2_residual\n",
    "F_h"
   ]
  },
  {
   "cell_type": "code",
   "execution_count": 34,
   "metadata": {},
   "outputs": [
    {
     "name": "stdout",
     "output_type": "stream",
     "text": [
      "Так как 5.500053450812598 > 3.39, различе роста в исследуемых группах статистически значимо\n"
     ]
    }
   ],
   "source": [
    "df_b = k-1\n",
    "df_in = n-k\n",
    "F_crit = 3.39\n",
    "\n",
    "print(f'Так как {F_h} > {F_crit}, различе роста в исследуемых группах статистически значимо')"
   ]
  },
  {
   "cell_type": "code",
   "execution_count": 31,
   "metadata": {},
   "outputs": [
    {
     "name": "stdout",
     "output_type": "stream",
     "text": [
      " Корреляционное отношение ниже 0.5 - 0.30555761769498,\n",
      " следовательно принадлежность спортсменов к определенное группе \n",
      " не влияют на показатели роста.\n"
     ]
    }
   ],
   "source": [
    "eta2 = s2_f / s2\n",
    "print(f' Корреляционное отношение близко к нулю - {eta2},\\n следовательно принадлежность спортсменов к определенное группе \\n не влияют на показатели роста.')"
   ]
  },
  {
   "cell_type": "code",
   "execution_count": 37,
   "metadata": {},
   "outputs": [
    {
     "data": {
      "text/plain": [
       "F_onewayResult(statistic=5.500053450812596, pvalue=0.010482206918698694)"
      ]
     },
     "execution_count": 37,
     "metadata": {},
     "output_type": "execute_result"
    }
   ],
   "source": [
    "from scipy import stats \n",
    "stats.f_oneway(f,h,a)"
   ]
  },
  {
   "cell_type": "code",
   "execution_count": null,
   "metadata": {},
   "outputs": [],
   "source": []
  }
 ],
 "metadata": {
  "kernelspec": {
   "display_name": "Python 3",
   "language": "python",
   "name": "python3"
  },
  "language_info": {
   "codemirror_mode": {
    "name": "ipython",
    "version": 3
   },
   "file_extension": ".py",
   "mimetype": "text/x-python",
   "name": "python",
   "nbconvert_exporter": "python",
   "pygments_lexer": "ipython3",
   "version": "3.7.3"
  }
 },
 "nbformat": 4,
 "nbformat_minor": 2
}
